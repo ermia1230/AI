{
 "cells": [
  {
   "cell_type": "markdown",
   "id": "8222c86c-ee80-4ff7-bed4-94067019cb14",
   "metadata": {},
   "source": [
    "# AI project: Women's Apparel Sentiment Analysis"
   ]
  },
  {
   "cell_type": "markdown",
   "id": "c3b31977-163f-407b-96c9-193239c50692",
   "metadata": {},
   "source": [
    "## Initialization phase\n",
    "The main objective in this phase is to import the required modules, prepare some sql queries that will be used to fetch data from the database, and finally create three data access objects for different products."
   ]
  },
  {
   "cell_type": "code",
   "execution_count": 1,
   "id": "22ec73e6-55d5-4ea3-a73e-cba7320531a9",
   "metadata": {},
   "outputs": [
    {
     "name": "stdout",
     "output_type": "stream",
     "text": [
      "3.12.5\n"
     ]
    }
   ],
   "source": [
    "from platform import python_version\n",
    "print(python_version())"
   ]
  },
  {
   "cell_type": "code",
   "execution_count": 2,
   "id": "65c192b7-963e-461b-b79e-21cef045f30f",
   "metadata": {},
   "outputs": [],
   "source": [
    "from dao import DAO as db_object\n",
    "import matplotlib.pyplot as plt"
   ]
  },
  {
   "cell_type": "code",
   "execution_count": 3,
   "id": "943bebd5-0e1f-44a9-be71-077e8915ecad",
   "metadata": {},
   "outputs": [],
   "source": [
    "fetch_valid_jeans_query = \"\"\"\n",
    "select rating, recommend, validation_result, problem_category from validated_reviews_jeans where validation_result\n",
    "= 't'; \"\"\"\n",
    "\n",
    "fetch_valid_jackets_query = \"\"\"\n",
    "select rating, recommend, validation_result, problem_category from validated_reviews_jacket where validation_result\n",
    "= 't'; \"\"\"\n",
    "\n",
    "fetch_valid_pants_query = \"\"\"\n",
    "select rating, recommend, validation_result, problem_category from validated_reviews_pants where validation_result\n",
    "= 't'; \"\"\""
   ]
  },
  {
   "cell_type": "code",
   "execution_count": 4,
   "id": "d072512c-a896-4050-8532-402eccbf83d9",
   "metadata": {},
   "outputs": [
    {
     "name": "stdout",
     "output_type": "stream",
     "text": [
      "Database connection established successfully.\n",
      "Database connection closed.\n",
      "Database connection established successfully.\n",
      "An error occurred while fetching data from the database.\n",
      "Details: relation \"validated_reviews_jackets\" does not exist\n",
      "LINE 2: ...commend, validation_result, problem_category from validated_...\n",
      "                                                             ^\n",
      "\n"
     ]
    },
    {
     "ename": "UndefinedTable",
     "evalue": "relation \"validated_reviews_jackets\" does not exist\nLINE 2: ...commend, validation_result, problem_category from validated_...\n                                                             ^\n",
     "output_type": "error",
     "traceback": [
      "\u001b[31m---------------------------------------------------------------------------\u001b[39m",
      "\u001b[31mUndefinedTable\u001b[39m                            Traceback (most recent call last)",
      "\u001b[36mCell\u001b[39m\u001b[36m \u001b[39m\u001b[32mIn[4]\u001b[39m\u001b[32m, line 2\u001b[39m\n\u001b[32m      1\u001b[39m jeans_data = db_object( fetch_valid_jeans_query)\n\u001b[32m----> \u001b[39m\u001b[32m2\u001b[39m jackets_data = \u001b[43mdb_object\u001b[49m\u001b[43m(\u001b[49m\u001b[43m \u001b[49m\u001b[43mfetch_valid_jackets_query\u001b[49m\u001b[43m)\u001b[49m\n\u001b[32m      3\u001b[39m pants_data = db_object( fetch_valid_pants_query)\n",
      "\u001b[36mFile \u001b[39m\u001b[32m~/Documents/Developer/2024_Developer/KTH/ID1214/AI 2/jupyter_notebook/dao.py:39\u001b[39m, in \u001b[36mDAO.__init__\u001b[39m\u001b[34m(self, fetch_query)\u001b[39m\n\u001b[32m     36\u001b[39m \u001b[38;5;28mprint\u001b[39m(\u001b[33m\"\u001b[39m\u001b[33mDatabase connection established successfully.\u001b[39m\u001b[33m\"\u001b[39m)\n\u001b[32m     38\u001b[39m cursor = connection.cursor()\n\u001b[32m---> \u001b[39m\u001b[32m39\u001b[39m \u001b[43mcursor\u001b[49m\u001b[43m.\u001b[49m\u001b[43mexecute\u001b[49m\u001b[43m(\u001b[49m\u001b[43mfetch_query\u001b[49m\u001b[43m)\u001b[49m\n\u001b[32m     40\u001b[39m data = cursor.fetchall()\n\u001b[32m     42\u001b[39m \u001b[38;5;28mself\u001b[39m._df = pd.DataFrame(data, columns=[\u001b[33m'\u001b[39m\u001b[33mrating\u001b[39m\u001b[33m'\u001b[39m, \u001b[33m'\u001b[39m\u001b[33mrecommend\u001b[39m\u001b[33m'\u001b[39m, \u001b[33m'\u001b[39m\u001b[33mvalidation_result\u001b[39m\u001b[33m'\u001b[39m, \u001b[33m'\u001b[39m\u001b[33mproblem_category\u001b[39m\u001b[33m'\u001b[39m])\n",
      "\u001b[31mUndefinedTable\u001b[39m: relation \"validated_reviews_jackets\" does not exist\nLINE 2: ...commend, validation_result, problem_category from validated_...\n                                                             ^\n"
     ]
    }
   ],
   "source": [
    "jeans_data = db_object( fetch_valid_jeans_query)\n",
    "jackets_data = db_object( fetch_valid_jackets_query)\n",
    "pants_data = db_object( fetch_valid_pants_query)"
   ]
  },
  {
   "cell_type": "markdown",
   "id": "2d819205-b0a0-4164-8e5b-48ee264b4dbd",
   "metadata": {},
   "source": [
    "## Rating Percentages\n",
    "The Pie charts generated after running the code in this section visualize the data distribution when it comes to rating. Since the main objective of this project is to identify the flaws pointed out in customer reviews, only ratings below 3 are considered. There are three charts, and each one of them displays the customers' rating distribution in percent."
   ]
  },
  {
   "cell_type": "code",
   "execution_count": 5,
   "id": "0188c972-69ef-4dfb-8828-7048a3746baf",
   "metadata": {},
   "outputs": [
    {
     "data": {
      "image/png": "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